{
  "nbformat": 4,
  "nbformat_minor": 0,
  "metadata": {
    "colab": {
      "provenance": []
    },
    "kernelspec": {
      "name": "python3",
      "display_name": "Python 3"
    },
    "language_info": {
      "name": "python"
    }
  },
  "cells": [
    {
      "cell_type": "code",
      "execution_count": null,
      "metadata": {
        "id": "lqYNPqLMTMkG"
      },
      "outputs": [],
      "source": [
        "import numpy as np\n",
        "import pandas as pd\n",
        "import matplotlib.pyplot as plt\n",
        "import seaborn as sns\n"
      ]
    },
    {
      "cell_type": "code",
      "source": [
        "X=np.linspace(-10,10,100)\n",
        "def sigmoid(x):\n",
        "  return 1/(1+np.exp(-x))\n",
        "\n",
        "def derivative_sig(x):\n",
        "  return (1/(1+np.exp(-x)))*(1-(1/(1+np.exp(-x))))\n",
        "\n",
        "def binary_los(X):\n",
        "  loss=-np.sum(X*np.log(X)+(1-X)*np.log(1-X))\n",
        "  return loss\n",
        "\n",
        "y=np.tanh(X)\n",
        "y=sigmoid(X)\n",
        "y=sigmoid(X)+np.abs(np.min(sigmoid(X)))\n",
        "y_up=derivative_sig(X)\n",
        "#plt.plot(X,y)\n",
        "plt.scatter(X,y)\n",
        "plt.plot(X,y_up)\n",
        "plt.xlabel(\"custom\")\n",
        "plt.ylabel(\"sigmoid function\")\n",
        "plt.show()\n"
      ],
      "metadata": {
        "colab": {
          "base_uri": "https://localhost:8080/",
          "height": 449
        },
        "id": "qyPnxZDaUp33",
        "outputId": "9dbe6132-74d5-4b86-9660-8c24ac4974f2"
      },
      "execution_count": null,
      "outputs": [
        {
          "output_type": "display_data",
          "data": {
            "text/plain": [
              "<Figure size 640x480 with 1 Axes>"
            ],
            "image/png": "[encoded data removed]"
          },
          "metadata": {}
        }
      ]
    },
    {
      "cell_type": "code",
      "source": [
        "def sigmoid(x):\n",
        "  return 1/(1+np.exp(-x))\n",
        "\n",
        "def derivative_sig(x):\n",
        "  return (1/(1+np.exp(-x)))*(1-(1/(1+np.exp(-x))))\n",
        "\n",
        "def predic(X,w,b):\n",
        "  y_pred=np.dot(X,w)+b\n",
        "  return sigmoid(y_pred)\n",
        "\n",
        "def binary_loss(y_true,y_pred):\n",
        "  m=y_true.shape[0]\n",
        "  loss=1/m-np.sum(y_true*np.log(y_pred)+(1-y_true)*np.log(1-y_pred))\n",
        "  return loss\n",
        "\n"
      ],
      "metadata": {
        "id": "cXuuM-hpep7x"
      },
      "execution_count": null,
      "outputs": []
    },
    {
      "cell_type": "code",
      "source": [],
      "metadata": {
        "id": "1hZRaawoerAZ"
      },
      "execution_count": null,
      "outputs": []
    },
    {
      "cell_type": "markdown",
      "source": [
        "Logisstic regresion implementation with python from scratch"
      ],
      "metadata": {
        "id": "M90LsUPnwpyW"
      }
    },
    {
      "cell_type": "code",
      "source": [
        "class LogisticRegression:\n",
        "    def __init__(self, learning_rate=0.01, num_iterations=1000):\n",
        "        self.learning_rate = learning_rate\n",
        "        self.num_iterations = num_iterations\n",
        "        self.weights = None\n",
        "        self.bias = None\n",
        "\n",
        "    def sigmoid(self, z):\n",
        "        return 1 / (1 + np.exp(-z))\n",
        "\n",
        "    def fit(self, X, y):\n",
        "        m, n = X.shape\n",
        "        self.weights = np.zeros(n)\n",
        "        self.bias = 0\n",
        "\n",
        "        for _ in range(self.num_iterations):\n",
        "            model = np.dot(X, self.weights) + self.bias\n",
        "\n",
        "            predictions = self.sigmoid(model)\n",
        "            dw = (1 / m) * np.dot(X.T, (predictions - y))\n",
        "            db = (1 / m) * np.sum(predictions - y)\n",
        "\n",
        "            self.weights -= self.learning_rate * dw\n",
        "            self.bias -= self.learning_rate * db\n",
        "\n",
        "    def predict(self, X):\n",
        "        model = np.dot(X, self.weights) + self.bias\n",
        "        predictions = self.sigmoid(model)\n",
        "        return [1 if prob >= 0.5 else 0 for prob in predictions]\n",
        "\n",
        "if __name__ == \"__main__\":\n",
        "    X = np.array([[1, 2], [2, 3], [3, 4], [4, 5], [5, 6]])\n",
        "    y = np.array([0, 0, 1, 1, 1])\n",
        "\n",
        "    model = LogisticRegression(learning_rate=0.01, num_iterations=1000)\n",
        "    model.fit(X, y)\n",
        "\n",
        "    predictions = model.predict(X)\n",
        "    print(\"Predictions:\", predictions)\n"
      ],
      "metadata": {
        "colab": {
          "base_uri": "https://localhost:8080/"
        },
        "id": "bwTfa8n4kwFs",
        "outputId": "487814d7-7a4c-4d8c-a6e2-0fcea03df5ed"
      },
      "execution_count": null,
      "outputs": [
        {
          "output_type": "stream",
          "name": "stdout",
          "text": [
            "Predictions: [0, 1, 1, 1, 1]\n"
          ]
        }
      ]
    },
    {
      "cell_type": "code",
      "source": [],
      "metadata": {
        "id": "Q-aFtzY-wS1_"
      },
      "execution_count": null,
      "outputs": []
    },
    {
      "cell_type": "code",
      "source": [],
      "metadata": {
        "id": "XbG1Y4RtdQY2"
      },
      "execution_count": null,
      "outputs": []
    },
    {
      "cell_type": "code",
      "source": [],
      "metadata": {
        "id": "O58EzMqEdQVf"
      },
      "execution_count": null,
      "outputs": []
    },
    {
      "cell_type": "code",
      "source": [
        "def softmax(z):\n",
        "    exp_z = np.exp(z - np.max(z, axis=1, keepdims=True))\n",
        "    return exp_z / np.sum(exp_z, axis=1, keepdims=True)\n",
        "\n",
        "class MultinomialLogisticRegression:\n",
        "    def __init__(self, n_features, n_classes, learning_rate=0.01, epochs=1000):\n",
        "        self.learning_rate = learning_rate\n",
        "        self.epochs = epochs\n",
        "        self.W = np.random.randn(n_features, n_classes)  # Weights for each class\n",
        "        self.b = np.zeros((1, n_classes))  # Bias for each class\n",
        "\n",
        "    def fit(self, X, y):\n",
        "        m = X.shape[0]  # Number of samples\n",
        "\n",
        "        for epoch in range(self.epochs):\n",
        "            # Forward Pass: Compute logits (z) and probabilities (y_hat)\n",
        "            z = np.dot(X, self.W) + self.b\n",
        "            y_hat = softmax(z)\n",
        "\n",
        "            # Compute the Cross-Entropy Loss\n",
        "            loss = -np.mean(np.sum(np.log(y_hat) * np.eye(y_hat.shape[1])[y], axis=1))\n",
        "\n",
        "            dz = y_hat - np.eye(y_hat.shape[1])[y]\n",
        "            dW = np.dot(X.T, dz) / m\n",
        "            db = np.sum(dz, axis=0, keepdims=True) / m\n",
        "\n",
        "            self.W -= self.learning_rate * dW\n",
        "            self.b -= self.learning_rate * db\n",
        "\n",
        "            if epoch % 100 == 0:\n",
        "                print(f'Epoch {epoch}/{self.epochs}, Loss: {loss}')\n",
        "\n",
        "    def predict(self, X):\n",
        "        z = np.dot(X, self.W) + self.b\n",
        "        y_hat = softmax(z)\n",
        "        return np.argmax(y_hat, axis=1)\n",
        "\n",
        "from sklearn import datasets\n",
        "from sklearn.model_selection import train_test_split\n",
        "from sklearn.preprocessing import StandardScaler\n",
        "\n",
        "iris = datasets.load_iris()\n",
        "X = iris.data\n",
        "y = iris.target\n",
        "scaler = StandardScaler()\n",
        "X = scaler.fit_transform(X)\n",
        "\n",
        "X_train, X_test, y_train, y_test = train_test_split(X, y, test_size=0.2, random_state=42)\n",
        "\n",
        "model = MultinomialLogisticRegression(n_features=X.shape[1], n_classes=3, learning_rate=0.1, epochs=3000)\n",
        "model.fit(X_train, y_train)\n",
        "\n",
        "y_pred = model.predict(X_test)\n",
        "\n",
        "accuracy = np.mean(y_pred == y_test)\n",
        "print(f\"Accuracy: {accuracy * 100:.2f}%\")\n"
      ],
      "metadata": {
        "id": "pCB2B4iydRiO",
        "colab": {
          "base_uri": "https://localhost:8080/"
        },
        "outputId": "553ad24e-3cdc-4716-a91a-ffc8ba017e90"
      },
      "execution_count": null,
      "outputs": [
        {
          "output_type": "stream",
          "name": "stdout",
          "text": [
            "Epoch 0/3000, Loss: 1.235151307255065\n",
            "Epoch 100/3000, Loss: 0.31768010795732315\n",
            "Epoch 200/3000, Loss: 0.253139815176329\n",
            "Epoch 300/3000, Loss: 0.21731676153670232\n",
            "Epoch 400/3000, Loss: 0.1926289602608781\n",
            "Epoch 500/3000, Loss: 0.1744252007740505\n",
            "Epoch 600/3000, Loss: 0.16042540827503354\n",
            "Epoch 700/3000, Loss: 0.14931980244645762\n",
            "Epoch 800/3000, Loss: 0.14029286790166376\n",
            "Epoch 900/3000, Loss: 0.13280867018266393\n",
            "Epoch 1000/3000, Loss: 0.12650038131742578\n",
            "Epoch 1100/3000, Loss: 0.12110858979201516\n",
            "Epoch 1200/3000, Loss: 0.11644479390341468\n",
            "Epoch 1300/3000, Loss: 0.11236881079536501\n",
            "Epoch 1400/3000, Loss: 0.1087742804019873\n",
            "Epoch 1500/3000, Loss: 0.1055790756353182\n",
            "Epoch 1600/3000, Loss: 0.10271878945840572\n",
            "Epoch 1700/3000, Loss: 0.1001422087390103\n",
            "Epoch 1800/3000, Loss: 0.09780810406577617\n",
            "Epoch 1900/3000, Loss: 0.09568291105298063\n",
            "Epoch 2000/3000, Loss: 0.09373902785577576\n",
            "Epoch 2100/3000, Loss: 0.09195354641508852\n",
            "Epoch 2200/3000, Loss: 0.0903072940532492\n",
            "Epoch 2300/3000, Loss: 0.088784100493272\n",
            "Epoch 2400/3000, Loss: 0.08737023087927544\n",
            "Epoch 2500/3000, Loss: 0.08605394259295344\n",
            "Epoch 2600/3000, Loss: 0.08482513547331763\n",
            "Epoch 2700/3000, Loss: 0.08367507327248117\n",
            "Epoch 2800/3000, Loss: 0.082596159987524\n",
            "Epoch 2900/3000, Loss: 0.08158175886110884\n",
            "Accuracy: 100.00%\n"
          ]
        }
      ]
    },
    {
      "cell_type": "code",
      "source": [],
      "metadata": {
        "id": "hryCnt8NmiYp"
      },
      "execution_count": null,
      "outputs": []
    },
    {
      "cell_type": "code",
      "source": [
        "\"\"\"\n",
        "the sparce max is enhanced and today most used loss function instead\n",
        "of softmax\n",
        "\"\"\"\n",
        "\n",
        "def sparsemax(z):\n",
        "    z_sorted = np.sort(z, axis=-1)[:, ::-1]\n",
        "    cumsum_z = np.cumsum(z_sorted, axis=-1) - 1\n",
        "    k = np.argmax(cumsum_z > 0, axis=-1)\n",
        "    tau = cumsum_z[np.arange(len(k)), k] / (k + 1)\n",
        "\n",
        "    sparsemax_probs = np.maximum(z - tau[:, None], 0)\n",
        "    sparsemax_probs /= np.sum(sparsemax_probs, axis=-1, keepdims=True)\n",
        "\n",
        "    return sparsemax_probs\n",
        "\n"
      ],
      "metadata": {
        "id": "54cSDvUimj7o"
      },
      "execution_count": null,
      "outputs": []
    },
    {
      "cell_type": "code",
      "source": [],
      "metadata": {
        "id": "UMnTcyxPrJVM"
      },
      "execution_count": null,
      "outputs": []
    },
    {
      "cell_type": "code",
      "source": [],
      "metadata": {
        "id": "Xh4Q4R8cr-9o"
      },
      "execution_count": null,
      "outputs": []
    }
  ]
}